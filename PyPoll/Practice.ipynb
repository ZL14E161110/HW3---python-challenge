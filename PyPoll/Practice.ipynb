{
 "cells": [
  {
   "cell_type": "code",
   "execution_count": 9,
   "metadata": {},
   "outputs": [
    {
     "name": "stdout",
     "output_type": "stream",
     "text": [
      "2\n"
     ]
    }
   ],
   "source": [
    "#import os and CSV to read file\n",
    "import os, os.path\n",
    "import csv\n",
    "\n",
    "list = os.listdir(\"./raw_data\")\n",
    "number_files = len(list)\n",
    "print (number_files)\n"
   ]
  },
  {
   "cell_type": "code",
   "execution_count": 76,
   "metadata": {},
   "outputs": [
    {
     "name": "stdout",
     "output_type": "stream",
     "text": [
      "803000\n",
      "[24090, 353320, 385440, 40150]\n",
      "['Cordin', 'Torres', 'Vestal', 'Seth']\n",
      "[0.03, 0.44, 0.48, 0.05]\n",
      "3521001\n",
      "[492940, 2218231, 704200, 105630]\n",
      "['Li', 'Khan', 'Correy', \"O'Tooley\"]\n",
      "[0.13999996023857988, 0.6300001050837531, 0.19999994319797126, 0.02999999147969569]\n"
     ]
    }
   ],
   "source": [
    "# Grab Election CSV files\n",
    "\n",
    "for numbers in range(number_files):\n",
    "    electioncsv = os.path.join('raw_data',\"election_data_\" + str(numbers+1) + \".csv\")\n",
    "    \n",
    "   # Set empty list variables\n",
    "    County= []\n",
    "    Candidate = []\n",
    "    CandidateUnique =[]\n",
    "    CVoteCount = []\n",
    "    CVotePercent =[]\n",
    "    TotalCount = 0\n",
    "\n",
    "# Open raw data file 1\n",
    "    with open(electioncsv,'r') as csvFile:\n",
    "        csvReader = csv.reader(csvFile, delimiter=',')\n",
    "            #skip headers\n",
    "        next(csvReader, None)\n",
    "\n",
    "        for row in csvReader: \n",
    "            TotalCount = TotalCount + 1\n",
    "            Candidate.append(row[2])\n",
    "        for x in set(Candidate):\n",
    "            CandidateUnique.append(x)\n",
    "            cc = Candidate.count(x)\n",
    "            CVoteCount.append(cc)\n",
    "            CVotePercent.append(Candidate.count(x)/TotalCount)\n",
    "        \n",
    "        Winner = CandidateUnique[CVoteCount.index(max(CVoteCount))]\n",
    "        print(TotalCount)\n",
    "        print(CVoteCount)\n",
    "        print(CandidateUnique)\n",
    "        print(CVotePercent)\n",
    "    \n",
    "    with open('Election_Results_' + str(numbers+1) + '.txt', 'w') as text:\n",
    "        text.write(\"Election Results for file 'election_data_\"+str(numbers+1) + \".csv'\"+\"\\n\")\n",
    "        text.write(\"----------------------------------------------------------\\n\")\n",
    "        text.write(\"Total Vote: \" + str(TotalCount) + \"\\n\")\n",
    "        text.write(\"----------------------------------------------------------\\n\")\n",
    "        for i in range(len(set(Candidate))):\n",
    "            text.write(CandidateUnique[i] + \": \" + str(round(CVotePercent[i]*100,1)) +\"% (\" + str(CVoteCount[i]) + \")\\n\")\n",
    "        text.write(\"----------------------------------------------------------\\n\")\n",
    "        text.write(\"Winner: \" + Winner +\"\\n\")\n",
    "        text.write(\"----------------------------------------------------------\\n\")\n",
    "    \n",
    "\n",
    "        \n"
   ]
  },
  {
   "cell_type": "code",
   "execution_count": null,
   "metadata": {
    "collapsed": true
   },
   "outputs": [],
   "source": []
  }
 ],
 "metadata": {
  "kernelspec": {
   "display_name": "Python 3",
   "language": "python",
   "name": "python3"
  },
  "language_info": {
   "codemirror_mode": {
    "name": "ipython",
    "version": 3
   },
   "file_extension": ".py",
   "mimetype": "text/x-python",
   "name": "python",
   "nbconvert_exporter": "python",
   "pygments_lexer": "ipython3",
   "version": "3.6.3"
  }
 },
 "nbformat": 4,
 "nbformat_minor": 2
}
