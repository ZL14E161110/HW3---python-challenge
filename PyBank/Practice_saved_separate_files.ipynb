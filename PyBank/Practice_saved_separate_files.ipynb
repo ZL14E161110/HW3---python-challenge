{
 "cells": [
  {
   "cell_type": "code",
   "execution_count": 2,
   "metadata": {},
   "outputs": [],
   "source": [
    "#import os and CSV to read file\n",
    "import os, os.path\n",
    "import csv\n",
    "\n",
    "list = os.listdir(\"./raw_data\")\n",
    "number_files = len(list)\n"
   ]
  },
  {
   "cell_type": "code",
   "execution_count": 8,
   "metadata": {},
   "outputs": [],
   "source": [
    "# Grab Budget CSV files\n",
    "for numbers in range(number_files):\n",
    "    budgetcsv = os.path.join('raw_data',\"budget_data_\" + str(numbers+1) + \".csv\")\n",
    "    #Set empty list variables\n",
    "    date = []\n",
    "    revenue =[]\n",
    "    month = []\n",
    "    year =[]\n",
    "    revenueChange =[]\n",
    "    TotalRev =0\n",
    "    TotalRevChange = 0\n",
    "    RevBeg=0\n",
    "    itemCount = 0\n",
    "    \n",
    "    # Open raw data file 1\n",
    "    with open(budgetcsv,'r') as csvFile:\n",
    "        csvReader = csv.reader(csvFile, delimiter=',')\n",
    "        #skip headers\n",
    "        next(csvReader, None)\n",
    "        \n",
    "        for row in csvReader:        \n",
    "            #Append data from the row\n",
    "            itemCount = itemCount + 1\n",
    "            date.append(row[0])\n",
    "            revenue.append(int(row[1]))\n",
    "            TotalRev = TotalRev + int(row[1])\n",
    "            RevEnd = int(row[1])\n",
    "            RevChg = RevEnd - RevBeg\n",
    "            TotalRevChange = TotalRevChange + RevChg\n",
    "            revenueChange.append(RevChg)\n",
    "            splitdate = row[0].split('-')\n",
    "            month.append(str(splitdate[0]))\n",
    "            year.append(splitdate[1][-2:])\n",
    "            RevBeg = RevEnd\n",
    "    \n",
    "    AveRevChg = TotalRevChange / itemCount\n",
    "    GIncrease = max(revenueChange)\n",
    "    GDecrease = min(revenueChange)\n",
    "    IncreaseDate = date[revenueChange.index(GIncrease)]\n",
    "    DecreaseDate = date[revenueChange.index(GDecrease)]\n",
    "    CountM = len(set(date))\n",
    "    \n",
    "    with open('financial_analysis_report_' + str(numbers+1) + '.txt', 'w') as text:\n",
    "        text.write(\"Financial Analysis for file 'budget_data_\"+ str(numbers+1) + \".csv'\"+\"\\n\")\n",
    "        text.write(\"----------------------------------------------------------\\n\")\n",
    "        text.write(\"    Total Months: \" + str(CountM) + \"\\n\")\n",
    "        text.write(\"    Total Revenue: \" + \"$\" + str(TotalRev) +\"\\n\")\n",
    "        text.write(\"    Average Revenue Change: \" + '$' + str(int(AveRevChg)) +'\\n')\n",
    "        text.write(\"    Greatest Increase in Revenue: \" + str(IncreaseDate) + \" ($\" + str(GIncrease) + \")\\n\")\n",
    "        text.write(\"    Greatest Decrease in Revenue: \" + str(DecreaseDate) + \" ($\" + str(GDecrease) + \")\\n\\n\")"
   ]
  }
 ],
 "metadata": {
  "kernelspec": {
   "display_name": "Python 3",
   "language": "python",
   "name": "python3"
  },
  "language_info": {
   "codemirror_mode": {
    "name": "ipython",
    "version": 3
   },
   "file_extension": ".py",
   "mimetype": "text/x-python",
   "name": "python",
   "nbconvert_exporter": "python",
   "pygments_lexer": "ipython3",
   "version": "3.6.3"
  }
 },
 "nbformat": 4,
 "nbformat_minor": 2
}
